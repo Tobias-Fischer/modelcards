{
  "nbformat": 4,
  "nbformat_minor": 0,
  "metadata": {
    "colab": {
      "name": "modelcards_demo.ipynb",
      "provenance": [],
      "collapsed_sections": [],
      "authorship_tag": "ABX9TyObRXUcgms2gdNmnCizFAkg",
      "include_colab_link": true
    },
    "kernelspec": {
      "name": "python3",
      "display_name": "Python 3"
    },
    "language_info": {
      "name": "python"
    },
    "widgets": {
      "application/vnd.jupyter.widget-state+json": {
        "44fa38b3cb414ddd8f9daf7808fdcb04": {
          "model_module": "@jupyter-widgets/controls",
          "model_name": "VBoxModel",
          "model_module_version": "1.5.0",
          "state": {
            "_dom_classes": [],
            "_model_module": "@jupyter-widgets/controls",
            "_model_module_version": "1.5.0",
            "_model_name": "VBoxModel",
            "_view_count": null,
            "_view_module": "@jupyter-widgets/controls",
            "_view_module_version": "1.5.0",
            "_view_name": "VBoxView",
            "box_style": "",
            "children": [
              "IPY_MODEL_18f423338a8946d0b9cf0030a6decc12",
              "IPY_MODEL_36ed301fea674a8f96df95b9fa4db400",
              "IPY_MODEL_a9466f09384a4d64919b6282b140fc34",
              "IPY_MODEL_258a36ff9d054d56b2094be6a6669aa7",
              "IPY_MODEL_db3c7e7390c942cf8cccf9b0a5b85226"
            ],
            "layout": "IPY_MODEL_276acecd61ad4adea4704d33e936f4dd"
          }
        },
        "18f423338a8946d0b9cf0030a6decc12": {
          "model_module": "@jupyter-widgets/controls",
          "model_name": "HTMLModel",
          "model_module_version": "1.5.0",
          "state": {
            "_dom_classes": [],
            "_model_module": "@jupyter-widgets/controls",
            "_model_module_version": "1.5.0",
            "_model_name": "HTMLModel",
            "_view_count": null,
            "_view_module": "@jupyter-widgets/controls",
            "_view_module_version": "1.5.0",
            "_view_name": "HTMLView",
            "description": "",
            "description_tooltip": null,
            "layout": "IPY_MODEL_93c275fe9cd34723b5395c407ce3e1e2",
            "placeholder": "​",
            "style": "IPY_MODEL_d9fb2696e27b4f1497a2d154e60c1721",
            "value": "<center> <img\nsrc=https://huggingface.co/front/assets/huggingface_logo-noborder.svg\nalt='Hugging Face'> <br> Copy a token from <a\nhref=\"https://huggingface.co/settings/tokens\" target=\"_blank\">your Hugging Face\ntokens page</a> and paste it below. <br> Immediately click login after copying\nyour token or it might be stored in plain text in this notebook file. </center>"
          }
        },
        "36ed301fea674a8f96df95b9fa4db400": {
          "model_module": "@jupyter-widgets/controls",
          "model_name": "PasswordModel",
          "model_module_version": "1.5.0",
          "state": {
            "_dom_classes": [],
            "_model_module": "@jupyter-widgets/controls",
            "_model_module_version": "1.5.0",
            "_model_name": "PasswordModel",
            "_view_count": null,
            "_view_module": "@jupyter-widgets/controls",
            "_view_module_version": "1.5.0",
            "_view_name": "PasswordView",
            "continuous_update": true,
            "description": "Token:",
            "description_tooltip": null,
            "disabled": false,
            "layout": "IPY_MODEL_37187b677c70428ca541dd99888ca3bf",
            "placeholder": "​",
            "style": "IPY_MODEL_6461b51f69184df994c7c1533562f2b0",
            "value": ""
          }
        },
        "a9466f09384a4d64919b6282b140fc34": {
          "model_module": "@jupyter-widgets/controls",
          "model_name": "ButtonModel",
          "model_module_version": "1.5.0",
          "state": {
            "_dom_classes": [],
            "_model_module": "@jupyter-widgets/controls",
            "_model_module_version": "1.5.0",
            "_model_name": "ButtonModel",
            "_view_count": null,
            "_view_module": "@jupyter-widgets/controls",
            "_view_module_version": "1.5.0",
            "_view_name": "ButtonView",
            "button_style": "",
            "description": "Login",
            "disabled": false,
            "icon": "",
            "layout": "IPY_MODEL_fdd42fd08390430e8808388902b5f510",
            "style": "IPY_MODEL_ab279da564fa49de9304f28f919cb01b",
            "tooltip": ""
          }
        },
        "258a36ff9d054d56b2094be6a6669aa7": {
          "model_module": "@jupyter-widgets/controls",
          "model_name": "HTMLModel",
          "model_module_version": "1.5.0",
          "state": {
            "_dom_classes": [],
            "_model_module": "@jupyter-widgets/controls",
            "_model_module_version": "1.5.0",
            "_model_name": "HTMLModel",
            "_view_count": null,
            "_view_module": "@jupyter-widgets/controls",
            "_view_module_version": "1.5.0",
            "_view_name": "HTMLView",
            "description": "",
            "description_tooltip": null,
            "layout": "IPY_MODEL_9e14c5eca11c4eb4b6ff16a88066fbed",
            "placeholder": "​",
            "style": "IPY_MODEL_eaff90e4c16840f6bd6e0a327ca659eb",
            "value": "\n<b>Pro Tip:</b> If you don't already have one, you can create a dedicated\n'notebooks' token with 'write' access, that you can then easily reuse for all\nnotebooks. <br> <i>Logging in with your username and password is deprecated and\nwon't be possible anymore in the near future. You can still use them for now by\nclicking below.</i> </center>"
          }
        },
        "db3c7e7390c942cf8cccf9b0a5b85226": {
          "model_module": "@jupyter-widgets/controls",
          "model_name": "ButtonModel",
          "model_module_version": "1.5.0",
          "state": {
            "_dom_classes": [],
            "_model_module": "@jupyter-widgets/controls",
            "_model_module_version": "1.5.0",
            "_model_name": "ButtonModel",
            "_view_count": null,
            "_view_module": "@jupyter-widgets/controls",
            "_view_module_version": "1.5.0",
            "_view_name": "ButtonView",
            "button_style": "",
            "description": "Use password",
            "disabled": false,
            "icon": "",
            "layout": "IPY_MODEL_3817a8cc67c74270a3449da2947616ac",
            "style": "IPY_MODEL_80670bebef76469485bcb54e958d27ad",
            "tooltip": ""
          }
        },
        "276acecd61ad4adea4704d33e936f4dd": {
          "model_module": "@jupyter-widgets/base",
          "model_name": "LayoutModel",
          "model_module_version": "1.2.0",
          "state": {
            "_model_module": "@jupyter-widgets/base",
            "_model_module_version": "1.2.0",
            "_model_name": "LayoutModel",
            "_view_count": null,
            "_view_module": "@jupyter-widgets/base",
            "_view_module_version": "1.2.0",
            "_view_name": "LayoutView",
            "align_content": null,
            "align_items": "center",
            "align_self": null,
            "border": null,
            "bottom": null,
            "display": "flex",
            "flex": null,
            "flex_flow": "column",
            "grid_area": null,
            "grid_auto_columns": null,
            "grid_auto_flow": null,
            "grid_auto_rows": null,
            "grid_column": null,
            "grid_gap": null,
            "grid_row": null,
            "grid_template_areas": null,
            "grid_template_columns": null,
            "grid_template_rows": null,
            "height": null,
            "justify_content": null,
            "justify_items": null,
            "left": null,
            "margin": null,
            "max_height": null,
            "max_width": null,
            "min_height": null,
            "min_width": null,
            "object_fit": null,
            "object_position": null,
            "order": null,
            "overflow": null,
            "overflow_x": null,
            "overflow_y": null,
            "padding": null,
            "right": null,
            "top": null,
            "visibility": null,
            "width": "50%"
          }
        },
        "93c275fe9cd34723b5395c407ce3e1e2": {
          "model_module": "@jupyter-widgets/base",
          "model_name": "LayoutModel",
          "model_module_version": "1.2.0",
          "state": {
            "_model_module": "@jupyter-widgets/base",
            "_model_module_version": "1.2.0",
            "_model_name": "LayoutModel",
            "_view_count": null,
            "_view_module": "@jupyter-widgets/base",
            "_view_module_version": "1.2.0",
            "_view_name": "LayoutView",
            "align_content": null,
            "align_items": null,
            "align_self": null,
            "border": null,
            "bottom": null,
            "display": null,
            "flex": null,
            "flex_flow": null,
            "grid_area": null,
            "grid_auto_columns": null,
            "grid_auto_flow": null,
            "grid_auto_rows": null,
            "grid_column": null,
            "grid_gap": null,
            "grid_row": null,
            "grid_template_areas": null,
            "grid_template_columns": null,
            "grid_template_rows": null,
            "height": null,
            "justify_content": null,
            "justify_items": null,
            "left": null,
            "margin": null,
            "max_height": null,
            "max_width": null,
            "min_height": null,
            "min_width": null,
            "object_fit": null,
            "object_position": null,
            "order": null,
            "overflow": null,
            "overflow_x": null,
            "overflow_y": null,
            "padding": null,
            "right": null,
            "top": null,
            "visibility": null,
            "width": null
          }
        },
        "d9fb2696e27b4f1497a2d154e60c1721": {
          "model_module": "@jupyter-widgets/controls",
          "model_name": "DescriptionStyleModel",
          "model_module_version": "1.5.0",
          "state": {
            "_model_module": "@jupyter-widgets/controls",
            "_model_module_version": "1.5.0",
            "_model_name": "DescriptionStyleModel",
            "_view_count": null,
            "_view_module": "@jupyter-widgets/base",
            "_view_module_version": "1.2.0",
            "_view_name": "StyleView",
            "description_width": ""
          }
        },
        "37187b677c70428ca541dd99888ca3bf": {
          "model_module": "@jupyter-widgets/base",
          "model_name": "LayoutModel",
          "model_module_version": "1.2.0",
          "state": {
            "_model_module": "@jupyter-widgets/base",
            "_model_module_version": "1.2.0",
            "_model_name": "LayoutModel",
            "_view_count": null,
            "_view_module": "@jupyter-widgets/base",
            "_view_module_version": "1.2.0",
            "_view_name": "LayoutView",
            "align_content": null,
            "align_items": null,
            "align_self": null,
            "border": null,
            "bottom": null,
            "display": null,
            "flex": null,
            "flex_flow": null,
            "grid_area": null,
            "grid_auto_columns": null,
            "grid_auto_flow": null,
            "grid_auto_rows": null,
            "grid_column": null,
            "grid_gap": null,
            "grid_row": null,
            "grid_template_areas": null,
            "grid_template_columns": null,
            "grid_template_rows": null,
            "height": null,
            "justify_content": null,
            "justify_items": null,
            "left": null,
            "margin": null,
            "max_height": null,
            "max_width": null,
            "min_height": null,
            "min_width": null,
            "object_fit": null,
            "object_position": null,
            "order": null,
            "overflow": null,
            "overflow_x": null,
            "overflow_y": null,
            "padding": null,
            "right": null,
            "top": null,
            "visibility": null,
            "width": null
          }
        },
        "6461b51f69184df994c7c1533562f2b0": {
          "model_module": "@jupyter-widgets/controls",
          "model_name": "DescriptionStyleModel",
          "model_module_version": "1.5.0",
          "state": {
            "_model_module": "@jupyter-widgets/controls",
            "_model_module_version": "1.5.0",
            "_model_name": "DescriptionStyleModel",
            "_view_count": null,
            "_view_module": "@jupyter-widgets/base",
            "_view_module_version": "1.2.0",
            "_view_name": "StyleView",
            "description_width": ""
          }
        },
        "fdd42fd08390430e8808388902b5f510": {
          "model_module": "@jupyter-widgets/base",
          "model_name": "LayoutModel",
          "model_module_version": "1.2.0",
          "state": {
            "_model_module": "@jupyter-widgets/base",
            "_model_module_version": "1.2.0",
            "_model_name": "LayoutModel",
            "_view_count": null,
            "_view_module": "@jupyter-widgets/base",
            "_view_module_version": "1.2.0",
            "_view_name": "LayoutView",
            "align_content": null,
            "align_items": null,
            "align_self": null,
            "border": null,
            "bottom": null,
            "display": null,
            "flex": null,
            "flex_flow": null,
            "grid_area": null,
            "grid_auto_columns": null,
            "grid_auto_flow": null,
            "grid_auto_rows": null,
            "grid_column": null,
            "grid_gap": null,
            "grid_row": null,
            "grid_template_areas": null,
            "grid_template_columns": null,
            "grid_template_rows": null,
            "height": null,
            "justify_content": null,
            "justify_items": null,
            "left": null,
            "margin": null,
            "max_height": null,
            "max_width": null,
            "min_height": null,
            "min_width": null,
            "object_fit": null,
            "object_position": null,
            "order": null,
            "overflow": null,
            "overflow_x": null,
            "overflow_y": null,
            "padding": null,
            "right": null,
            "top": null,
            "visibility": null,
            "width": null
          }
        },
        "ab279da564fa49de9304f28f919cb01b": {
          "model_module": "@jupyter-widgets/controls",
          "model_name": "ButtonStyleModel",
          "model_module_version": "1.5.0",
          "state": {
            "_model_module": "@jupyter-widgets/controls",
            "_model_module_version": "1.5.0",
            "_model_name": "ButtonStyleModel",
            "_view_count": null,
            "_view_module": "@jupyter-widgets/base",
            "_view_module_version": "1.2.0",
            "_view_name": "StyleView",
            "button_color": null,
            "font_weight": ""
          }
        },
        "9e14c5eca11c4eb4b6ff16a88066fbed": {
          "model_module": "@jupyter-widgets/base",
          "model_name": "LayoutModel",
          "model_module_version": "1.2.0",
          "state": {
            "_model_module": "@jupyter-widgets/base",
            "_model_module_version": "1.2.0",
            "_model_name": "LayoutModel",
            "_view_count": null,
            "_view_module": "@jupyter-widgets/base",
            "_view_module_version": "1.2.0",
            "_view_name": "LayoutView",
            "align_content": null,
            "align_items": null,
            "align_self": null,
            "border": null,
            "bottom": null,
            "display": null,
            "flex": null,
            "flex_flow": null,
            "grid_area": null,
            "grid_auto_columns": null,
            "grid_auto_flow": null,
            "grid_auto_rows": null,
            "grid_column": null,
            "grid_gap": null,
            "grid_row": null,
            "grid_template_areas": null,
            "grid_template_columns": null,
            "grid_template_rows": null,
            "height": null,
            "justify_content": null,
            "justify_items": null,
            "left": null,
            "margin": null,
            "max_height": null,
            "max_width": null,
            "min_height": null,
            "min_width": null,
            "object_fit": null,
            "object_position": null,
            "order": null,
            "overflow": null,
            "overflow_x": null,
            "overflow_y": null,
            "padding": null,
            "right": null,
            "top": null,
            "visibility": null,
            "width": null
          }
        },
        "eaff90e4c16840f6bd6e0a327ca659eb": {
          "model_module": "@jupyter-widgets/controls",
          "model_name": "DescriptionStyleModel",
          "model_module_version": "1.5.0",
          "state": {
            "_model_module": "@jupyter-widgets/controls",
            "_model_module_version": "1.5.0",
            "_model_name": "DescriptionStyleModel",
            "_view_count": null,
            "_view_module": "@jupyter-widgets/base",
            "_view_module_version": "1.2.0",
            "_view_name": "StyleView",
            "description_width": ""
          }
        },
        "3817a8cc67c74270a3449da2947616ac": {
          "model_module": "@jupyter-widgets/base",
          "model_name": "LayoutModel",
          "model_module_version": "1.2.0",
          "state": {
            "_model_module": "@jupyter-widgets/base",
            "_model_module_version": "1.2.0",
            "_model_name": "LayoutModel",
            "_view_count": null,
            "_view_module": "@jupyter-widgets/base",
            "_view_module_version": "1.2.0",
            "_view_name": "LayoutView",
            "align_content": null,
            "align_items": null,
            "align_self": null,
            "border": null,
            "bottom": null,
            "display": null,
            "flex": null,
            "flex_flow": null,
            "grid_area": null,
            "grid_auto_columns": null,
            "grid_auto_flow": null,
            "grid_auto_rows": null,
            "grid_column": null,
            "grid_gap": null,
            "grid_row": null,
            "grid_template_areas": null,
            "grid_template_columns": null,
            "grid_template_rows": null,
            "height": null,
            "justify_content": null,
            "justify_items": null,
            "left": null,
            "margin": null,
            "max_height": null,
            "max_width": null,
            "min_height": null,
            "min_width": null,
            "object_fit": null,
            "object_position": null,
            "order": null,
            "overflow": null,
            "overflow_x": null,
            "overflow_y": null,
            "padding": null,
            "right": null,
            "top": null,
            "visibility": null,
            "width": null
          }
        },
        "80670bebef76469485bcb54e958d27ad": {
          "model_module": "@jupyter-widgets/controls",
          "model_name": "ButtonStyleModel",
          "model_module_version": "1.5.0",
          "state": {
            "_model_module": "@jupyter-widgets/controls",
            "_model_module_version": "1.5.0",
            "_model_name": "ButtonStyleModel",
            "_view_count": null,
            "_view_module": "@jupyter-widgets/base",
            "_view_module_version": "1.2.0",
            "_view_name": "StyleView",
            "button_color": null,
            "font_weight": ""
          }
        }
      }
    }
  },
  "cells": [
    {
      "cell_type": "markdown",
      "metadata": {
        "id": "view-in-github",
        "colab_type": "text"
      },
      "source": [
        "<a href=\"https://colab.research.google.com/github/nateraw/modelcards/blob/main/modelcards_demo.ipynb\" target=\"_parent\"><img src=\"https://colab.research.google.com/assets/colab-badge.svg\" alt=\"Open In Colab\"/></a>"
      ]
    },
    {
      "cell_type": "code",
      "execution_count": 1,
      "metadata": {
        "colab": {
          "base_uri": "https://localhost:8080/"
        },
        "id": "ElLsgxPHDYep",
        "outputId": "8adb006d-f477-45cc-922c-8e756ade372c"
      },
      "outputs": [
        {
          "output_type": "stream",
          "name": "stdout",
          "text": [
            "Collecting modelcards\n",
            "  Downloading modelcards-0.0.4-py3-none-any.whl (8.3 kB)\n",
            "Collecting huggingface-hub\n",
            "  Downloading huggingface_hub-0.6.0-py3-none-any.whl (84 kB)\n",
            "\u001b[K     |████████████████████████████████| 84 kB 1.8 MB/s \n",
            "\u001b[?25hCollecting pyyaml>=5.1\n",
            "  Downloading PyYAML-6.0-cp37-cp37m-manylinux_2_5_x86_64.manylinux1_x86_64.manylinux_2_12_x86_64.manylinux2010_x86_64.whl (596 kB)\n",
            "\u001b[K     |████████████████████████████████| 596 kB 10.1 MB/s \n",
            "\u001b[?25hRequirement already satisfied: Jinja2 in /usr/local/lib/python3.7/dist-packages (from modelcards) (2.11.3)\n",
            "Requirement already satisfied: packaging>=20.9 in /usr/local/lib/python3.7/dist-packages (from huggingface-hub->modelcards) (21.3)\n",
            "Requirement already satisfied: importlib-metadata in /usr/local/lib/python3.7/dist-packages (from huggingface-hub->modelcards) (4.11.3)\n",
            "Requirement already satisfied: filelock in /usr/local/lib/python3.7/dist-packages (from huggingface-hub->modelcards) (3.7.0)\n",
            "Requirement already satisfied: tqdm in /usr/local/lib/python3.7/dist-packages (from huggingface-hub->modelcards) (4.64.0)\n",
            "Requirement already satisfied: requests in /usr/local/lib/python3.7/dist-packages (from huggingface-hub->modelcards) (2.23.0)\n",
            "Requirement already satisfied: typing-extensions>=3.7.4.3 in /usr/local/lib/python3.7/dist-packages (from huggingface-hub->modelcards) (4.2.0)\n",
            "Requirement already satisfied: pyparsing!=3.0.5,>=2.0.2 in /usr/local/lib/python3.7/dist-packages (from packaging>=20.9->huggingface-hub->modelcards) (3.0.9)\n",
            "Requirement already satisfied: zipp>=0.5 in /usr/local/lib/python3.7/dist-packages (from importlib-metadata->huggingface-hub->modelcards) (3.8.0)\n",
            "Requirement already satisfied: MarkupSafe>=0.23 in /usr/local/lib/python3.7/dist-packages (from Jinja2->modelcards) (2.0.1)\n",
            "Requirement already satisfied: chardet<4,>=3.0.2 in /usr/local/lib/python3.7/dist-packages (from requests->huggingface-hub->modelcards) (3.0.4)\n",
            "Requirement already satisfied: certifi>=2017.4.17 in /usr/local/lib/python3.7/dist-packages (from requests->huggingface-hub->modelcards) (2021.10.8)\n",
            "Requirement already satisfied: urllib3!=1.25.0,!=1.25.1,<1.26,>=1.21.1 in /usr/local/lib/python3.7/dist-packages (from requests->huggingface-hub->modelcards) (1.24.3)\n",
            "Requirement already satisfied: idna<3,>=2.5 in /usr/local/lib/python3.7/dist-packages (from requests->huggingface-hub->modelcards) (2.10)\n",
            "Installing collected packages: pyyaml, huggingface-hub, modelcards\n",
            "  Attempting uninstall: pyyaml\n",
            "    Found existing installation: PyYAML 3.13\n",
            "    Uninstalling PyYAML-3.13:\n",
            "      Successfully uninstalled PyYAML-3.13\n",
            "Successfully installed huggingface-hub-0.6.0 modelcards-0.0.4 pyyaml-6.0\n"
          ]
        }
      ],
      "source": [
        "! pip install modelcards\n",
        "! git config --global credential.helper store"
      ]
    },
    {
      "cell_type": "markdown",
      "source": [
        "To load an existing modelcard from a repo on the Hugging Face Hub, like [nateraw/food](https://hf.co/nateraw/food), you can do this:"
      ],
      "metadata": {
        "id": "LOJ4Or_rGCZB"
      }
    },
    {
      "cell_type": "code",
      "source": [
        "from modelcards import ModelCard\n",
        "\n",
        "card = ModelCard.load('nateraw/food')\n",
        "print(card)"
      ],
      "metadata": {
        "id": "gZxOr-yUDeBn"
      },
      "execution_count": null,
      "outputs": []
    },
    {
      "cell_type": "markdown",
      "source": [
        "We can also see just the metadata like this:"
      ],
      "metadata": {
        "id": "xvRMBaCTDjcP"
      }
    },
    {
      "cell_type": "code",
      "source": [
        "card.data"
      ],
      "metadata": {
        "colab": {
          "base_uri": "https://localhost:8080/"
        },
        "id": "1rvQxsJpDm2x",
        "outputId": "3b6ca5db-33f1-4e68-cc48-6e5a8feb5691"
      },
      "execution_count": 8,
      "outputs": [
        {
          "output_type": "execute_result",
          "data": {
            "text/plain": [
              "CardData(language=None, license='apache-2.0', library_name=None, tags=['generated_from_trainer', 'image-classification', 'pytorch'], datasets=['food101'], metrics=['accuracy'], eval_results=[EvalResult(task_type='image-classification', dataset_type='food101', dataset_name='food-101', metric_type='accuracy', metric_value=0.8912871287128713, task_name='Image Classification', dataset_config=None, dataset_split=None, dataset_revision=None, dataset_args='default', metric_name='Accuracy', metric_config=None, metric_args=None, verified=None)], model_name='food101_outputs')"
            ]
          },
          "metadata": {},
          "execution_count": 8
        }
      ]
    },
    {
      "cell_type": "markdown",
      "source": [
        "This `ModelCard.from_template` is a really nice function. It lets you build a model card from a jinja template. By default, it uses the [default model card template](https://github.com/nateraw/modelcards/blob/main/modelcards/modelcard_template.md), but you could use your own template if you want :)"
      ],
      "metadata": {
        "id": "Mhh5JG9sDnW7"
      }
    },
    {
      "cell_type": "code",
      "source": [
        "from huggingface_hub import create_repo\n",
        "\n",
        "repo_id = \"nateraw/my-cool-model-with-card\"\n",
        "\n",
        "# Write/overwrite the model card in that repo\n",
        "card = ModelCard.from_template(\n",
        "    language='en',\n",
        "    license='mit',\n",
        "    library_name='timm',\n",
        "    tags=['image-classification', 'resnet'],\n",
        "    dataset='imagenet',\n",
        "    metrics=['acc', 'f1'],\n",
        "    model_id=repo_id.split('/')[-1],\n",
        "    model_description=\"This isn't really a model, it's just a test repo to see if the [modelcards](https://github.com/nateraw/modelcards) package works!\",\n",
        ")\n",
        "print(card)"
      ],
      "metadata": {
        "colab": {
          "base_uri": "https://localhost:8080/"
        },
        "id": "jCsJ1EzEDsnu",
        "outputId": "a04f1b9e-e560-443d-f3c9-8cf604a2f64d"
      },
      "execution_count": 12,
      "outputs": [
        {
          "output_type": "stream",
          "name": "stdout",
          "text": [
            "---\n",
            "language: en\n",
            "license: mit\n",
            "library_name: timm\n",
            "tags:\n",
            "- image-classification\n",
            "- resnet\n",
            "metrics:\n",
            "- acc\n",
            "- f1\n",
            "---\n",
            "\n",
            "# my-cool-model-with-card\n",
            "\n",
            "## Model description\n",
            "\n",
            "This isn't really a model, it's just a test repo to see if the [modelcards](https://github.com/nateraw/modelcards) package works!\n",
            "\n",
            "## Intended uses & limitations\n",
            "\n",
            "#### How to use\n",
            "\n",
            "```python\n",
            "# You can include sample code which will be formatted\n",
            "```\n",
            "\n",
            "#### Limitations and bias\n",
            "\n",
            "Provide examples of latent issues and potential remediations.\n",
            "\n",
            "## Training data\n",
            "\n",
            "Describe the data you used to train the model.\n",
            "If you initialized it with pre-trained weights, add a link to the pre-trained model card or repository with description of the pre-training data.\n",
            "\n",
            "## Training procedure\n",
            "\n",
            "Preprocessing, hardware used, hyperparameters...\n",
            "\n",
            "## Eval results\n",
            "\n",
            "Provide some evaluation results.\n",
            "\n",
            "### BibTeX entry and citation info\n",
            "\n",
            "```bibtex\n",
            "@inproceedings{...,\n",
            "  year={2020}\n",
            "}\n",
            "```\n"
          ]
        }
      ]
    },
    {
      "cell_type": "markdown",
      "source": [
        "You can save your model card to a local file with ModelCard.save"
      ],
      "metadata": {
        "id": "ma8FpdeRmHEV"
      }
    },
    {
      "cell_type": "code",
      "source": [
        "card.save(\"my_cool_modelcard.md\")"
      ],
      "metadata": {
        "id": "LT5VoETJmLo_"
      },
      "execution_count": 14,
      "outputs": []
    },
    {
      "cell_type": "markdown",
      "source": [
        "We can load it back in using `ModelCard.load`...`ModelCard.load` accepts both repo IDs and local filenames."
      ],
      "metadata": {
        "id": "qWANuH8umPAy"
      }
    },
    {
      "cell_type": "code",
      "source": [
        "card = ModelCard.load('my_cool_modelcard.md')"
      ],
      "metadata": {
        "id": "q7tCzNRcmZKy"
      },
      "execution_count": 15,
      "outputs": []
    },
    {
      "cell_type": "code",
      "source": [
        "card.data"
      ],
      "metadata": {
        "id": "wQdYByjEmcQ0",
        "outputId": "978e3ef7-39ca-43e1-89cd-213dfd7ec04b",
        "colab": {
          "base_uri": "https://localhost:8080/"
        }
      },
      "execution_count": 17,
      "outputs": [
        {
          "output_type": "execute_result",
          "data": {
            "text/plain": [
              "CardData(language='en', license='mit', library_name='timm', tags=['image-classification', 'resnet'], datasets=None, metrics=['acc', 'f1'], eval_results=None, model_name=None)"
            ]
          },
          "metadata": {},
          "execution_count": 17
        }
      ]
    },
    {
      "cell_type": "markdown",
      "source": [
        "## Pushing Model Cards to the Hugging Face Hub\n",
        "\n",
        "As long as you're logged in, you can push model cards to the Hub really easily using the `ModelCard.push_to_hub` function."
      ],
      "metadata": {
        "id": "2dKxH710E2iw"
      }
    },
    {
      "cell_type": "code",
      "source": [
        "from huggingface_hub import notebook_login\n",
        "\n",
        "notebook_login()"
      ],
      "metadata": {
        "colab": {
          "base_uri": "https://localhost:8080/",
          "height": 331,
          "referenced_widgets": [
            "44fa38b3cb414ddd8f9daf7808fdcb04",
            "18f423338a8946d0b9cf0030a6decc12",
            "36ed301fea674a8f96df95b9fa4db400",
            "a9466f09384a4d64919b6282b140fc34",
            "258a36ff9d054d56b2094be6a6669aa7",
            "db3c7e7390c942cf8cccf9b0a5b85226",
            "276acecd61ad4adea4704d33e936f4dd",
            "93c275fe9cd34723b5395c407ce3e1e2",
            "d9fb2696e27b4f1497a2d154e60c1721",
            "37187b677c70428ca541dd99888ca3bf",
            "6461b51f69184df994c7c1533562f2b0",
            "fdd42fd08390430e8808388902b5f510",
            "ab279da564fa49de9304f28f919cb01b",
            "9e14c5eca11c4eb4b6ff16a88066fbed",
            "eaff90e4c16840f6bd6e0a327ca659eb",
            "3817a8cc67c74270a3449da2947616ac",
            "80670bebef76469485bcb54e958d27ad"
          ]
        },
        "id": "RrJHJVA4EnJi",
        "outputId": "ed4587f8-4256-4a0a-9b77-9e623c928ed6"
      },
      "execution_count": 13,
      "outputs": [
        {
          "output_type": "stream",
          "name": "stdout",
          "text": [
            "Login successful\n",
            "Your token has been saved to /root/.huggingface/token\n"
          ]
        }
      ]
    },
    {
      "cell_type": "markdown",
      "source": [
        "...you can push it up like this"
      ],
      "metadata": {
        "id": "-vY0Y5V8E8JA"
      }
    },
    {
      "cell_type": "code",
      "source": [
        "# Create a repo if it doesn't already exist\n",
        "repo_url = create_repo(repo_id, exist_ok=True)\n",
        "\n",
        "# Push To Hub 🤗\n",
        "card.push_to_hub(repo_id)\n",
        "\n",
        "print(f\"You can find the repo at {repo_url}\")"
      ],
      "metadata": {
        "colab": {
          "base_uri": "https://localhost:8080/"
        },
        "id": "IZub-m6nEls4",
        "outputId": "3857eac8-c1b2-41e0-8181-9fde8206609a"
      },
      "execution_count": 18,
      "outputs": [
        {
          "output_type": "stream",
          "name": "stdout",
          "text": [
            "You can find the repo at https://huggingface.co/nateraw/my-cool-model-with-card\n"
          ]
        }
      ]
    }
  ]
}