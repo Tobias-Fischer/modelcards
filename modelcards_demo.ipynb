{
  "nbformat": 4,
  "nbformat_minor": 0,
  "metadata": {
    "colab": {
      "name": "modelcards_demo.ipynb",
      "provenance": [],
      "collapsed_sections": [],
      "include_colab_link": true
    },
    "kernelspec": {
      "name": "python3",
      "display_name": "Python 3"
    },
    "language_info": {
      "name": "python"
    },
    "widgets": {
      "application/vnd.jupyter.widget-state+json": {
        "7216e4fefe134c6d8565fbfd7baae7fa": {
          "model_module": "@jupyter-widgets/controls",
          "model_name": "HBoxModel",
          "model_module_version": "1.5.0",
          "state": {
            "_dom_classes": [],
            "_model_module": "@jupyter-widgets/controls",
            "_model_module_version": "1.5.0",
            "_model_name": "HBoxModel",
            "_view_count": null,
            "_view_module": "@jupyter-widgets/controls",
            "_view_module_version": "1.5.0",
            "_view_name": "HBoxView",
            "box_style": "",
            "children": [
              "IPY_MODEL_f340c5d23d864887ad4a075eb8f342f0",
              "IPY_MODEL_5c57465db4f4444bb3b98ab4567d5314",
              "IPY_MODEL_d1bfe4478ee2408c8e2182b7edf5a14f"
            ],
            "layout": "IPY_MODEL_14b794ff1d804f27b707ed1c0f75a08d"
          }
        },
        "f340c5d23d864887ad4a075eb8f342f0": {
          "model_module": "@jupyter-widgets/controls",
          "model_name": "HTMLModel",
          "model_module_version": "1.5.0",
          "state": {
            "_dom_classes": [],
            "_model_module": "@jupyter-widgets/controls",
            "_model_module_version": "1.5.0",
            "_model_name": "HTMLModel",
            "_view_count": null,
            "_view_module": "@jupyter-widgets/controls",
            "_view_module_version": "1.5.0",
            "_view_name": "HTMLView",
            "description": "",
            "description_tooltip": null,
            "layout": "IPY_MODEL_cf344233cfd74e409ed8be090c5ecdfd",
            "placeholder": "​",
            "style": "IPY_MODEL_4b54d5b0de894fb685d6d12ce9802478",
            "value": "Downloading: 100%"
          }
        },
        "5c57465db4f4444bb3b98ab4567d5314": {
          "model_module": "@jupyter-widgets/controls",
          "model_name": "FloatProgressModel",
          "model_module_version": "1.5.0",
          "state": {
            "_dom_classes": [],
            "_model_module": "@jupyter-widgets/controls",
            "_model_module_version": "1.5.0",
            "_model_name": "FloatProgressModel",
            "_view_count": null,
            "_view_module": "@jupyter-widgets/controls",
            "_view_module_version": "1.5.0",
            "_view_name": "ProgressView",
            "bar_style": "success",
            "description": "",
            "description_tooltip": null,
            "layout": "IPY_MODEL_e8eccfbf4b7a4e48a01f0351daa8531a",
            "max": 1957,
            "min": 0,
            "orientation": "horizontal",
            "style": "IPY_MODEL_75b0760667354721ba54185ca82c58a0",
            "value": 1957
          }
        },
        "d1bfe4478ee2408c8e2182b7edf5a14f": {
          "model_module": "@jupyter-widgets/controls",
          "model_name": "HTMLModel",
          "model_module_version": "1.5.0",
          "state": {
            "_dom_classes": [],
            "_model_module": "@jupyter-widgets/controls",
            "_model_module_version": "1.5.0",
            "_model_name": "HTMLModel",
            "_view_count": null,
            "_view_module": "@jupyter-widgets/controls",
            "_view_module_version": "1.5.0",
            "_view_name": "HTMLView",
            "description": "",
            "description_tooltip": null,
            "layout": "IPY_MODEL_25cc665322bd4c1c9bb3b15c244005cd",
            "placeholder": "​",
            "style": "IPY_MODEL_d5d04be9d63b41d58d5696531323aba2",
            "value": " 1.96k/1.96k [00:00&lt;00:00, 33.0kB/s]"
          }
        },
        "14b794ff1d804f27b707ed1c0f75a08d": {
          "model_module": "@jupyter-widgets/base",
          "model_name": "LayoutModel",
          "model_module_version": "1.2.0",
          "state": {
            "_model_module": "@jupyter-widgets/base",
            "_model_module_version": "1.2.0",
            "_model_name": "LayoutModel",
            "_view_count": null,
            "_view_module": "@jupyter-widgets/base",
            "_view_module_version": "1.2.0",
            "_view_name": "LayoutView",
            "align_content": null,
            "align_items": null,
            "align_self": null,
            "border": null,
            "bottom": null,
            "display": null,
            "flex": null,
            "flex_flow": null,
            "grid_area": null,
            "grid_auto_columns": null,
            "grid_auto_flow": null,
            "grid_auto_rows": null,
            "grid_column": null,
            "grid_gap": null,
            "grid_row": null,
            "grid_template_areas": null,
            "grid_template_columns": null,
            "grid_template_rows": null,
            "height": null,
            "justify_content": null,
            "justify_items": null,
            "left": null,
            "margin": null,
            "max_height": null,
            "max_width": null,
            "min_height": null,
            "min_width": null,
            "object_fit": null,
            "object_position": null,
            "order": null,
            "overflow": null,
            "overflow_x": null,
            "overflow_y": null,
            "padding": null,
            "right": null,
            "top": null,
            "visibility": null,
            "width": null
          }
        },
        "cf344233cfd74e409ed8be090c5ecdfd": {
          "model_module": "@jupyter-widgets/base",
          "model_name": "LayoutModel",
          "model_module_version": "1.2.0",
          "state": {
            "_model_module": "@jupyter-widgets/base",
            "_model_module_version": "1.2.0",
            "_model_name": "LayoutModel",
            "_view_count": null,
            "_view_module": "@jupyter-widgets/base",
            "_view_module_version": "1.2.0",
            "_view_name": "LayoutView",
            "align_content": null,
            "align_items": null,
            "align_self": null,
            "border": null,
            "bottom": null,
            "display": null,
            "flex": null,
            "flex_flow": null,
            "grid_area": null,
            "grid_auto_columns": null,
            "grid_auto_flow": null,
            "grid_auto_rows": null,
            "grid_column": null,
            "grid_gap": null,
            "grid_row": null,
            "grid_template_areas": null,
            "grid_template_columns": null,
            "grid_template_rows": null,
            "height": null,
            "justify_content": null,
            "justify_items": null,
            "left": null,
            "margin": null,
            "max_height": null,
            "max_width": null,
            "min_height": null,
            "min_width": null,
            "object_fit": null,
            "object_position": null,
            "order": null,
            "overflow": null,
            "overflow_x": null,
            "overflow_y": null,
            "padding": null,
            "right": null,
            "top": null,
            "visibility": null,
            "width": null
          }
        },
        "4b54d5b0de894fb685d6d12ce9802478": {
          "model_module": "@jupyter-widgets/controls",
          "model_name": "DescriptionStyleModel",
          "model_module_version": "1.5.0",
          "state": {
            "_model_module": "@jupyter-widgets/controls",
            "_model_module_version": "1.5.0",
            "_model_name": "DescriptionStyleModel",
            "_view_count": null,
            "_view_module": "@jupyter-widgets/base",
            "_view_module_version": "1.2.0",
            "_view_name": "StyleView",
            "description_width": ""
          }
        },
        "e8eccfbf4b7a4e48a01f0351daa8531a": {
          "model_module": "@jupyter-widgets/base",
          "model_name": "LayoutModel",
          "model_module_version": "1.2.0",
          "state": {
            "_model_module": "@jupyter-widgets/base",
            "_model_module_version": "1.2.0",
            "_model_name": "LayoutModel",
            "_view_count": null,
            "_view_module": "@jupyter-widgets/base",
            "_view_module_version": "1.2.0",
            "_view_name": "LayoutView",
            "align_content": null,
            "align_items": null,
            "align_self": null,
            "border": null,
            "bottom": null,
            "display": null,
            "flex": null,
            "flex_flow": null,
            "grid_area": null,
            "grid_auto_columns": null,
            "grid_auto_flow": null,
            "grid_auto_rows": null,
            "grid_column": null,
            "grid_gap": null,
            "grid_row": null,
            "grid_template_areas": null,
            "grid_template_columns": null,
            "grid_template_rows": null,
            "height": null,
            "justify_content": null,
            "justify_items": null,
            "left": null,
            "margin": null,
            "max_height": null,
            "max_width": null,
            "min_height": null,
            "min_width": null,
            "object_fit": null,
            "object_position": null,
            "order": null,
            "overflow": null,
            "overflow_x": null,
            "overflow_y": null,
            "padding": null,
            "right": null,
            "top": null,
            "visibility": null,
            "width": null
          }
        },
        "75b0760667354721ba54185ca82c58a0": {
          "model_module": "@jupyter-widgets/controls",
          "model_name": "ProgressStyleModel",
          "model_module_version": "1.5.0",
          "state": {
            "_model_module": "@jupyter-widgets/controls",
            "_model_module_version": "1.5.0",
            "_model_name": "ProgressStyleModel",
            "_view_count": null,
            "_view_module": "@jupyter-widgets/base",
            "_view_module_version": "1.2.0",
            "_view_name": "StyleView",
            "bar_color": null,
            "description_width": ""
          }
        },
        "25cc665322bd4c1c9bb3b15c244005cd": {
          "model_module": "@jupyter-widgets/base",
          "model_name": "LayoutModel",
          "model_module_version": "1.2.0",
          "state": {
            "_model_module": "@jupyter-widgets/base",
            "_model_module_version": "1.2.0",
            "_model_name": "LayoutModel",
            "_view_count": null,
            "_view_module": "@jupyter-widgets/base",
            "_view_module_version": "1.2.0",
            "_view_name": "LayoutView",
            "align_content": null,
            "align_items": null,
            "align_self": null,
            "border": null,
            "bottom": null,
            "display": null,
            "flex": null,
            "flex_flow": null,
            "grid_area": null,
            "grid_auto_columns": null,
            "grid_auto_flow": null,
            "grid_auto_rows": null,
            "grid_column": null,
            "grid_gap": null,
            "grid_row": null,
            "grid_template_areas": null,
            "grid_template_columns": null,
            "grid_template_rows": null,
            "height": null,
            "justify_content": null,
            "justify_items": null,
            "left": null,
            "margin": null,
            "max_height": null,
            "max_width": null,
            "min_height": null,
            "min_width": null,
            "object_fit": null,
            "object_position": null,
            "order": null,
            "overflow": null,
            "overflow_x": null,
            "overflow_y": null,
            "padding": null,
            "right": null,
            "top": null,
            "visibility": null,
            "width": null
          }
        },
        "d5d04be9d63b41d58d5696531323aba2": {
          "model_module": "@jupyter-widgets/controls",
          "model_name": "DescriptionStyleModel",
          "model_module_version": "1.5.0",
          "state": {
            "_model_module": "@jupyter-widgets/controls",
            "_model_module_version": "1.5.0",
            "_model_name": "DescriptionStyleModel",
            "_view_count": null,
            "_view_module": "@jupyter-widgets/base",
            "_view_module_version": "1.2.0",
            "_view_name": "StyleView",
            "description_width": ""
          }
        },
        "23e101d6de1440b8a29fdd1a3b96ec98": {
          "model_module": "@jupyter-widgets/controls",
          "model_name": "VBoxModel",
          "model_module_version": "1.5.0",
          "state": {
            "_dom_classes": [],
            "_model_module": "@jupyter-widgets/controls",
            "_model_module_version": "1.5.0",
            "_model_name": "VBoxModel",
            "_view_count": null,
            "_view_module": "@jupyter-widgets/controls",
            "_view_module_version": "1.5.0",
            "_view_name": "VBoxView",
            "box_style": "",
            "children": [
              "IPY_MODEL_889409417139410f99bae9994e296ea0",
              "IPY_MODEL_c991b48567804acea4b2354499f19035",
              "IPY_MODEL_f9b34b8acb3145b1ae05679805d110a9",
              "IPY_MODEL_9c4781df10374c4ba4eeec60ec3c9bd3",
              "IPY_MODEL_ee2fdc44e01543f6bbcdbcb143da87b3"
            ],
            "layout": "IPY_MODEL_47bba9e5222e496d9756d0716d2af23d"
          }
        },
        "889409417139410f99bae9994e296ea0": {
          "model_module": "@jupyter-widgets/controls",
          "model_name": "HTMLModel",
          "model_module_version": "1.5.0",
          "state": {
            "_dom_classes": [],
            "_model_module": "@jupyter-widgets/controls",
            "_model_module_version": "1.5.0",
            "_model_name": "HTMLModel",
            "_view_count": null,
            "_view_module": "@jupyter-widgets/controls",
            "_view_module_version": "1.5.0",
            "_view_name": "HTMLView",
            "description": "",
            "description_tooltip": null,
            "layout": "IPY_MODEL_80c8f83594ad4496b375f8dad8840f5b",
            "placeholder": "​",
            "style": "IPY_MODEL_f3b0ce3912d44f35b0ebc92272505b34",
            "value": "<center> <img\nsrc=https://huggingface.co/front/assets/huggingface_logo-noborder.svg\nalt='Hugging Face'> <br> Copy a token from <a\nhref=\"https://huggingface.co/settings/tokens\" target=\"_blank\">your Hugging Face\ntokens page</a> and paste it below. <br> Immediately click login after copying\nyour token or it might be stored in plain text in this notebook file. </center>"
          }
        },
        "c991b48567804acea4b2354499f19035": {
          "model_module": "@jupyter-widgets/controls",
          "model_name": "PasswordModel",
          "model_module_version": "1.5.0",
          "state": {
            "_dom_classes": [],
            "_model_module": "@jupyter-widgets/controls",
            "_model_module_version": "1.5.0",
            "_model_name": "PasswordModel",
            "_view_count": null,
            "_view_module": "@jupyter-widgets/controls",
            "_view_module_version": "1.5.0",
            "_view_name": "PasswordView",
            "continuous_update": true,
            "description": "Token:",
            "description_tooltip": null,
            "disabled": false,
            "layout": "IPY_MODEL_2add93c86eb5429badc17bc7fc117c73",
            "placeholder": "​",
            "style": "IPY_MODEL_044690367d6e4a30b633cb5350752254",
            "value": ""
          }
        },
        "f9b34b8acb3145b1ae05679805d110a9": {
          "model_module": "@jupyter-widgets/controls",
          "model_name": "ButtonModel",
          "model_module_version": "1.5.0",
          "state": {
            "_dom_classes": [],
            "_model_module": "@jupyter-widgets/controls",
            "_model_module_version": "1.5.0",
            "_model_name": "ButtonModel",
            "_view_count": null,
            "_view_module": "@jupyter-widgets/controls",
            "_view_module_version": "1.5.0",
            "_view_name": "ButtonView",
            "button_style": "",
            "description": "Login",
            "disabled": false,
            "icon": "",
            "layout": "IPY_MODEL_40a7745bc5d4407c83579551f158a4f5",
            "style": "IPY_MODEL_fb93beb5b95f4268889d87340b16c026",
            "tooltip": ""
          }
        },
        "9c4781df10374c4ba4eeec60ec3c9bd3": {
          "model_module": "@jupyter-widgets/controls",
          "model_name": "HTMLModel",
          "model_module_version": "1.5.0",
          "state": {
            "_dom_classes": [],
            "_model_module": "@jupyter-widgets/controls",
            "_model_module_version": "1.5.0",
            "_model_name": "HTMLModel",
            "_view_count": null,
            "_view_module": "@jupyter-widgets/controls",
            "_view_module_version": "1.5.0",
            "_view_name": "HTMLView",
            "description": "",
            "description_tooltip": null,
            "layout": "IPY_MODEL_b9732d2088d04dc492e4d817909af071",
            "placeholder": "​",
            "style": "IPY_MODEL_989322ae18c84b1a92f98b721d03fda8",
            "value": "\n<b>Pro Tip:</b> If you don't already have one, you can create a dedicated\n'notebooks' token with 'write' access, that you can then easily reuse for all\nnotebooks. <br> <i>Logging in with your username and password is deprecated and\nwon't be possible anymore in the near future. You can still use them for now by\nclicking below.</i> </center>"
          }
        },
        "ee2fdc44e01543f6bbcdbcb143da87b3": {
          "model_module": "@jupyter-widgets/controls",
          "model_name": "ButtonModel",
          "model_module_version": "1.5.0",
          "state": {
            "_dom_classes": [],
            "_model_module": "@jupyter-widgets/controls",
            "_model_module_version": "1.5.0",
            "_model_name": "ButtonModel",
            "_view_count": null,
            "_view_module": "@jupyter-widgets/controls",
            "_view_module_version": "1.5.0",
            "_view_name": "ButtonView",
            "button_style": "",
            "description": "Use password",
            "disabled": false,
            "icon": "",
            "layout": "IPY_MODEL_104a3d2379e04222b1e2a08cd5f189c9",
            "style": "IPY_MODEL_f46e2a67d41b478a89c3b748657458e1",
            "tooltip": ""
          }
        },
        "47bba9e5222e496d9756d0716d2af23d": {
          "model_module": "@jupyter-widgets/base",
          "model_name": "LayoutModel",
          "model_module_version": "1.2.0",
          "state": {
            "_model_module": "@jupyter-widgets/base",
            "_model_module_version": "1.2.0",
            "_model_name": "LayoutModel",
            "_view_count": null,
            "_view_module": "@jupyter-widgets/base",
            "_view_module_version": "1.2.0",
            "_view_name": "LayoutView",
            "align_content": null,
            "align_items": "center",
            "align_self": null,
            "border": null,
            "bottom": null,
            "display": "flex",
            "flex": null,
            "flex_flow": "column",
            "grid_area": null,
            "grid_auto_columns": null,
            "grid_auto_flow": null,
            "grid_auto_rows": null,
            "grid_column": null,
            "grid_gap": null,
            "grid_row": null,
            "grid_template_areas": null,
            "grid_template_columns": null,
            "grid_template_rows": null,
            "height": null,
            "justify_content": null,
            "justify_items": null,
            "left": null,
            "margin": null,
            "max_height": null,
            "max_width": null,
            "min_height": null,
            "min_width": null,
            "object_fit": null,
            "object_position": null,
            "order": null,
            "overflow": null,
            "overflow_x": null,
            "overflow_y": null,
            "padding": null,
            "right": null,
            "top": null,
            "visibility": null,
            "width": "50%"
          }
        },
        "80c8f83594ad4496b375f8dad8840f5b": {
          "model_module": "@jupyter-widgets/base",
          "model_name": "LayoutModel",
          "model_module_version": "1.2.0",
          "state": {
            "_model_module": "@jupyter-widgets/base",
            "_model_module_version": "1.2.0",
            "_model_name": "LayoutModel",
            "_view_count": null,
            "_view_module": "@jupyter-widgets/base",
            "_view_module_version": "1.2.0",
            "_view_name": "LayoutView",
            "align_content": null,
            "align_items": null,
            "align_self": null,
            "border": null,
            "bottom": null,
            "display": null,
            "flex": null,
            "flex_flow": null,
            "grid_area": null,
            "grid_auto_columns": null,
            "grid_auto_flow": null,
            "grid_auto_rows": null,
            "grid_column": null,
            "grid_gap": null,
            "grid_row": null,
            "grid_template_areas": null,
            "grid_template_columns": null,
            "grid_template_rows": null,
            "height": null,
            "justify_content": null,
            "justify_items": null,
            "left": null,
            "margin": null,
            "max_height": null,
            "max_width": null,
            "min_height": null,
            "min_width": null,
            "object_fit": null,
            "object_position": null,
            "order": null,
            "overflow": null,
            "overflow_x": null,
            "overflow_y": null,
            "padding": null,
            "right": null,
            "top": null,
            "visibility": null,
            "width": null
          }
        },
        "f3b0ce3912d44f35b0ebc92272505b34": {
          "model_module": "@jupyter-widgets/controls",
          "model_name": "DescriptionStyleModel",
          "model_module_version": "1.5.0",
          "state": {
            "_model_module": "@jupyter-widgets/controls",
            "_model_module_version": "1.5.0",
            "_model_name": "DescriptionStyleModel",
            "_view_count": null,
            "_view_module": "@jupyter-widgets/base",
            "_view_module_version": "1.2.0",
            "_view_name": "StyleView",
            "description_width": ""
          }
        },
        "2add93c86eb5429badc17bc7fc117c73": {
          "model_module": "@jupyter-widgets/base",
          "model_name": "LayoutModel",
          "model_module_version": "1.2.0",
          "state": {
            "_model_module": "@jupyter-widgets/base",
            "_model_module_version": "1.2.0",
            "_model_name": "LayoutModel",
            "_view_count": null,
            "_view_module": "@jupyter-widgets/base",
            "_view_module_version": "1.2.0",
            "_view_name": "LayoutView",
            "align_content": null,
            "align_items": null,
            "align_self": null,
            "border": null,
            "bottom": null,
            "display": null,
            "flex": null,
            "flex_flow": null,
            "grid_area": null,
            "grid_auto_columns": null,
            "grid_auto_flow": null,
            "grid_auto_rows": null,
            "grid_column": null,
            "grid_gap": null,
            "grid_row": null,
            "grid_template_areas": null,
            "grid_template_columns": null,
            "grid_template_rows": null,
            "height": null,
            "justify_content": null,
            "justify_items": null,
            "left": null,
            "margin": null,
            "max_height": null,
            "max_width": null,
            "min_height": null,
            "min_width": null,
            "object_fit": null,
            "object_position": null,
            "order": null,
            "overflow": null,
            "overflow_x": null,
            "overflow_y": null,
            "padding": null,
            "right": null,
            "top": null,
            "visibility": null,
            "width": null
          }
        },
        "044690367d6e4a30b633cb5350752254": {
          "model_module": "@jupyter-widgets/controls",
          "model_name": "DescriptionStyleModel",
          "model_module_version": "1.5.0",
          "state": {
            "_model_module": "@jupyter-widgets/controls",
            "_model_module_version": "1.5.0",
            "_model_name": "DescriptionStyleModel",
            "_view_count": null,
            "_view_module": "@jupyter-widgets/base",
            "_view_module_version": "1.2.0",
            "_view_name": "StyleView",
            "description_width": ""
          }
        },
        "40a7745bc5d4407c83579551f158a4f5": {
          "model_module": "@jupyter-widgets/base",
          "model_name": "LayoutModel",
          "model_module_version": "1.2.0",
          "state": {
            "_model_module": "@jupyter-widgets/base",
            "_model_module_version": "1.2.0",
            "_model_name": "LayoutModel",
            "_view_count": null,
            "_view_module": "@jupyter-widgets/base",
            "_view_module_version": "1.2.0",
            "_view_name": "LayoutView",
            "align_content": null,
            "align_items": null,
            "align_self": null,
            "border": null,
            "bottom": null,
            "display": null,
            "flex": null,
            "flex_flow": null,
            "grid_area": null,
            "grid_auto_columns": null,
            "grid_auto_flow": null,
            "grid_auto_rows": null,
            "grid_column": null,
            "grid_gap": null,
            "grid_row": null,
            "grid_template_areas": null,
            "grid_template_columns": null,
            "grid_template_rows": null,
            "height": null,
            "justify_content": null,
            "justify_items": null,
            "left": null,
            "margin": null,
            "max_height": null,
            "max_width": null,
            "min_height": null,
            "min_width": null,
            "object_fit": null,
            "object_position": null,
            "order": null,
            "overflow": null,
            "overflow_x": null,
            "overflow_y": null,
            "padding": null,
            "right": null,
            "top": null,
            "visibility": null,
            "width": null
          }
        },
        "fb93beb5b95f4268889d87340b16c026": {
          "model_module": "@jupyter-widgets/controls",
          "model_name": "ButtonStyleModel",
          "model_module_version": "1.5.0",
          "state": {
            "_model_module": "@jupyter-widgets/controls",
            "_model_module_version": "1.5.0",
            "_model_name": "ButtonStyleModel",
            "_view_count": null,
            "_view_module": "@jupyter-widgets/base",
            "_view_module_version": "1.2.0",
            "_view_name": "StyleView",
            "button_color": null,
            "font_weight": ""
          }
        },
        "b9732d2088d04dc492e4d817909af071": {
          "model_module": "@jupyter-widgets/base",
          "model_name": "LayoutModel",
          "model_module_version": "1.2.0",
          "state": {
            "_model_module": "@jupyter-widgets/base",
            "_model_module_version": "1.2.0",
            "_model_name": "LayoutModel",
            "_view_count": null,
            "_view_module": "@jupyter-widgets/base",
            "_view_module_version": "1.2.0",
            "_view_name": "LayoutView",
            "align_content": null,
            "align_items": null,
            "align_self": null,
            "border": null,
            "bottom": null,
            "display": null,
            "flex": null,
            "flex_flow": null,
            "grid_area": null,
            "grid_auto_columns": null,
            "grid_auto_flow": null,
            "grid_auto_rows": null,
            "grid_column": null,
            "grid_gap": null,
            "grid_row": null,
            "grid_template_areas": null,
            "grid_template_columns": null,
            "grid_template_rows": null,
            "height": null,
            "justify_content": null,
            "justify_items": null,
            "left": null,
            "margin": null,
            "max_height": null,
            "max_width": null,
            "min_height": null,
            "min_width": null,
            "object_fit": null,
            "object_position": null,
            "order": null,
            "overflow": null,
            "overflow_x": null,
            "overflow_y": null,
            "padding": null,
            "right": null,
            "top": null,
            "visibility": null,
            "width": null
          }
        },
        "989322ae18c84b1a92f98b721d03fda8": {
          "model_module": "@jupyter-widgets/controls",
          "model_name": "DescriptionStyleModel",
          "model_module_version": "1.5.0",
          "state": {
            "_model_module": "@jupyter-widgets/controls",
            "_model_module_version": "1.5.0",
            "_model_name": "DescriptionStyleModel",
            "_view_count": null,
            "_view_module": "@jupyter-widgets/base",
            "_view_module_version": "1.2.0",
            "_view_name": "StyleView",
            "description_width": ""
          }
        },
        "104a3d2379e04222b1e2a08cd5f189c9": {
          "model_module": "@jupyter-widgets/base",
          "model_name": "LayoutModel",
          "model_module_version": "1.2.0",
          "state": {
            "_model_module": "@jupyter-widgets/base",
            "_model_module_version": "1.2.0",
            "_model_name": "LayoutModel",
            "_view_count": null,
            "_view_module": "@jupyter-widgets/base",
            "_view_module_version": "1.2.0",
            "_view_name": "LayoutView",
            "align_content": null,
            "align_items": null,
            "align_self": null,
            "border": null,
            "bottom": null,
            "display": null,
            "flex": null,
            "flex_flow": null,
            "grid_area": null,
            "grid_auto_columns": null,
            "grid_auto_flow": null,
            "grid_auto_rows": null,
            "grid_column": null,
            "grid_gap": null,
            "grid_row": null,
            "grid_template_areas": null,
            "grid_template_columns": null,
            "grid_template_rows": null,
            "height": null,
            "justify_content": null,
            "justify_items": null,
            "left": null,
            "margin": null,
            "max_height": null,
            "max_width": null,
            "min_height": null,
            "min_width": null,
            "object_fit": null,
            "object_position": null,
            "order": null,
            "overflow": null,
            "overflow_x": null,
            "overflow_y": null,
            "padding": null,
            "right": null,
            "top": null,
            "visibility": null,
            "width": null
          }
        },
        "f46e2a67d41b478a89c3b748657458e1": {
          "model_module": "@jupyter-widgets/controls",
          "model_name": "ButtonStyleModel",
          "model_module_version": "1.5.0",
          "state": {
            "_model_module": "@jupyter-widgets/controls",
            "_model_module_version": "1.5.0",
            "_model_name": "ButtonStyleModel",
            "_view_count": null,
            "_view_module": "@jupyter-widgets/base",
            "_view_module_version": "1.2.0",
            "_view_name": "StyleView",
            "button_color": null,
            "font_weight": ""
          }
        }
      }
    }
  },
  "cells": [
    {
      "cell_type": "markdown",
      "metadata": {
        "id": "view-in-github",
        "colab_type": "text"
      },
      "source": [
        "<a href=\"https://colab.research.google.com/github/nateraw/modelcards/blob/main/modelcards_demo.ipynb\" target=\"_parent\"><img src=\"https://colab.research.google.com/assets/colab-badge.svg\" alt=\"Open In Colab\"/></a>"
      ]
    },
    {
      "cell_type": "code",
      "execution_count": null,
      "metadata": {
        "colab": {
          "base_uri": "https://localhost:8080/"
        },
        "id": "ElLsgxPHDYep",
        "outputId": "027e91b7-3228-4319-82a8-962bb78ae168"
      },
      "outputs": [
        {
          "output_type": "stream",
          "name": "stdout",
          "text": [
            "Looking in indexes: https://pypi.org/simple, https://us-python.pkg.dev/colab-wheels/public/simple/\n",
            "Collecting modelcards\n",
            "  Downloading modelcards-0.1.0-py3-none-any.whl (8.8 kB)\n",
            "Collecting huggingface-hub\n",
            "  Downloading huggingface_hub-0.7.0-py3-none-any.whl (86 kB)\n",
            "\u001b[K     |████████████████████████████████| 86 kB 2.0 MB/s \n",
            "\u001b[?25hRequirement already satisfied: Jinja2 in /usr/local/lib/python3.7/dist-packages (from modelcards) (2.11.3)\n",
            "Collecting pyyaml>=5.1\n",
            "  Downloading PyYAML-6.0-cp37-cp37m-manylinux_2_5_x86_64.manylinux1_x86_64.manylinux_2_12_x86_64.manylinux2010_x86_64.whl (596 kB)\n",
            "\u001b[K     |████████████████████████████████| 596 kB 10.4 MB/s \n",
            "\u001b[?25hRequirement already satisfied: packaging>=20.9 in /usr/local/lib/python3.7/dist-packages (from huggingface-hub->modelcards) (21.3)\n",
            "Requirement already satisfied: typing-extensions>=3.7.4.3 in /usr/local/lib/python3.7/dist-packages (from huggingface-hub->modelcards) (4.2.0)\n",
            "Requirement already satisfied: tqdm in /usr/local/lib/python3.7/dist-packages (from huggingface-hub->modelcards) (4.64.0)\n",
            "Requirement already satisfied: importlib-metadata in /usr/local/lib/python3.7/dist-packages (from huggingface-hub->modelcards) (4.11.4)\n",
            "Requirement already satisfied: requests in /usr/local/lib/python3.7/dist-packages (from huggingface-hub->modelcards) (2.23.0)\n",
            "Requirement already satisfied: filelock in /usr/local/lib/python3.7/dist-packages (from huggingface-hub->modelcards) (3.7.0)\n",
            "Requirement already satisfied: pyparsing!=3.0.5,>=2.0.2 in /usr/local/lib/python3.7/dist-packages (from packaging>=20.9->huggingface-hub->modelcards) (3.0.9)\n",
            "Requirement already satisfied: zipp>=0.5 in /usr/local/lib/python3.7/dist-packages (from importlib-metadata->huggingface-hub->modelcards) (3.8.0)\n",
            "Requirement already satisfied: MarkupSafe>=0.23 in /usr/local/lib/python3.7/dist-packages (from Jinja2->modelcards) (2.0.1)\n",
            "Requirement already satisfied: idna<3,>=2.5 in /usr/local/lib/python3.7/dist-packages (from requests->huggingface-hub->modelcards) (2.10)\n",
            "Requirement already satisfied: chardet<4,>=3.0.2 in /usr/local/lib/python3.7/dist-packages (from requests->huggingface-hub->modelcards) (3.0.4)\n",
            "Requirement already satisfied: urllib3!=1.25.0,!=1.25.1,<1.26,>=1.21.1 in /usr/local/lib/python3.7/dist-packages (from requests->huggingface-hub->modelcards) (1.24.3)\n",
            "Requirement already satisfied: certifi>=2017.4.17 in /usr/local/lib/python3.7/dist-packages (from requests->huggingface-hub->modelcards) (2022.5.18.1)\n",
            "Installing collected packages: pyyaml, huggingface-hub, modelcards\n",
            "  Attempting uninstall: pyyaml\n",
            "    Found existing installation: PyYAML 3.13\n",
            "    Uninstalling PyYAML-3.13:\n",
            "      Successfully uninstalled PyYAML-3.13\n",
            "Successfully installed huggingface-hub-0.7.0 modelcards-0.1.0 pyyaml-6.0\n"
          ]
        }
      ],
      "source": [
        "! pip install modelcards\n",
        "! git config --global credential.helper store"
      ]
    },
    {
      "cell_type": "markdown",
      "source": [
        "## Loading Existing Model Cards from the Hugging Face Hub 🤗\n",
        "\n",
        "To load an existing modelcard from a repo on the Hugging Face Hub, like [nateraw/food](https://hf.co/nateraw/food), you can do this:"
      ],
      "metadata": {
        "id": "Dw9Y8S0j7i3g"
      }
    },
    {
      "cell_type": "code",
      "source": [
        "from modelcards import ModelCard\n",
        "\n",
        "card = ModelCard.load('nateraw/food')\n",
        "print(card)"
      ],
      "metadata": {
        "id": "gZxOr-yUDeBn",
        "outputId": "a7e0f4df-7a7b-42f2-8f25-8f50c1f8ed7d",
        "colab": {
          "base_uri": "https://localhost:8080/",
          "height": 1000,
          "referenced_widgets": [
            "7216e4fefe134c6d8565fbfd7baae7fa",
            "f340c5d23d864887ad4a075eb8f342f0",
            "5c57465db4f4444bb3b98ab4567d5314",
            "d1bfe4478ee2408c8e2182b7edf5a14f",
            "14b794ff1d804f27b707ed1c0f75a08d",
            "cf344233cfd74e409ed8be090c5ecdfd",
            "4b54d5b0de894fb685d6d12ce9802478",
            "e8eccfbf4b7a4e48a01f0351daa8531a",
            "75b0760667354721ba54185ca82c58a0",
            "25cc665322bd4c1c9bb3b15c244005cd",
            "d5d04be9d63b41d58d5696531323aba2"
          ]
        }
      },
      "execution_count": null,
      "outputs": [
        {
          "output_type": "display_data",
          "data": {
            "text/plain": [
              "Downloading:   0%|          | 0.00/1.96k [00:00<?, ?B/s]"
            ],
            "application/vnd.jupyter.widget-view+json": {
              "version_major": 2,
              "version_minor": 0,
              "model_id": "7216e4fefe134c6d8565fbfd7baae7fa"
            }
          },
          "metadata": {}
        },
        {
          "output_type": "stream",
          "name": "stdout",
          "text": [
            "---\n",
            "license: apache-2.0\n",
            "tags:\n",
            "- generated_from_trainer\n",
            "- image-classification\n",
            "- pytorch\n",
            "datasets:\n",
            "- food101\n",
            "metrics:\n",
            "- accuracy\n",
            "model-index:\n",
            "- name: food101_outputs\n",
            "  results:\n",
            "  - task:\n",
            "      type: image-classification\n",
            "      name: Image Classification\n",
            "    dataset:\n",
            "      type: food101\n",
            "      name: food-101\n",
            "      args: default\n",
            "    metrics:\n",
            "    - name: Accuracy\n",
            "      type: accuracy\n",
            "      value: 0.8912871287128713\n",
            "---\n",
            "\n",
            "<!-- This model card has been generated automatically according to the information the Trainer had access to. You\n",
            "should probably proofread and complete it, then remove this comment. -->\n",
            "\n",
            "# nateraw/food\n",
            "\n",
            "This model is a fine-tuned version of [google/vit-base-patch16-224-in21k](https://huggingface.co/google/vit-base-patch16-224-in21k) on the nateraw/food101 dataset.\n",
            "It achieves the following results on the evaluation set:\n",
            "- Loss: 0.4501\n",
            "- Accuracy: 0.8913\n",
            "\n",
            "## Model description\n",
            "\n",
            "More information needed\n",
            "\n",
            "## Intended uses & limitations\n",
            "\n",
            "More information needed\n",
            "\n",
            "## Training and evaluation data\n",
            "\n",
            "More information needed\n",
            "\n",
            "## Training procedure\n",
            "\n",
            "### Training hyperparameters\n",
            "\n",
            "The following hyperparameters were used during training:\n",
            "- learning_rate: 0.0002\n",
            "- train_batch_size: 128\n",
            "- eval_batch_size: 128\n",
            "- seed: 1337\n",
            "- optimizer: Adam with betas=(0.9,0.999) and epsilon=1e-08\n",
            "- lr_scheduler_type: linear\n",
            "- num_epochs: 5.0\n",
            "- mixed_precision_training: Native AMP\n",
            "\n",
            "### Training results\n",
            "\n",
            "| Training Loss | Epoch | Step | Validation Loss | Accuracy |\n",
            "|:-------------:|:-----:|:----:|:---------------:|:--------:|\n",
            "| 0.8271        | 1.0   | 592  | 0.6070          | 0.8562   |\n",
            "| 0.4376        | 2.0   | 1184 | 0.4947          | 0.8691   |\n",
            "| 0.2089        | 3.0   | 1776 | 0.4876          | 0.8747   |\n",
            "| 0.0882        | 4.0   | 2368 | 0.4639          | 0.8857   |\n",
            "| 0.0452        | 5.0   | 2960 | 0.4501          | 0.8913   |\n",
            "\n",
            "\n",
            "### Framework versions\n",
            "\n",
            "- Transformers 4.9.0.dev0\n",
            "- Pytorch 1.9.0+cu102\n",
            "- Datasets 1.9.1.dev0\n",
            "- Tokenizers 0.10.3\n",
            "\n"
          ]
        }
      ]
    },
    {
      "cell_type": "markdown",
      "source": [
        "We can also see just the metadata like this:"
      ],
      "metadata": {
        "id": "xvRMBaCTDjcP"
      }
    },
    {
      "cell_type": "code",
      "source": [
        "card.data"
      ],
      "metadata": {
        "colab": {
          "base_uri": "https://localhost:8080/"
        },
        "id": "1rvQxsJpDm2x",
        "outputId": "029bc374-e524-4cea-d0fb-46ae64ad37f7"
      },
      "execution_count": null,
      "outputs": [
        {
          "output_type": "execute_result",
          "data": {
            "text/plain": [
              "license: apache-2.0\n",
              "tags:\n",
              "- generated_from_trainer\n",
              "- image-classification\n",
              "- pytorch\n",
              "datasets:\n",
              "- food101\n",
              "metrics:\n",
              "- accuracy\n",
              "model-index:\n",
              "- name: food101_outputs\n",
              "  results:\n",
              "  - task:\n",
              "      type: image-classification\n",
              "      name: Image Classification\n",
              "    dataset:\n",
              "      type: food101\n",
              "      name: food-101\n",
              "      args: default\n",
              "    metrics:\n",
              "    - name: Accuracy\n",
              "      type: accuracy\n",
              "      value: 0.8912871287128713"
            ]
          },
          "metadata": {},
          "execution_count": 3
        }
      ]
    },
    {
      "cell_type": "markdown",
      "source": [
        "## Creating New Model Cards from the Default Template"
      ],
      "metadata": {
        "id": "feeGy-Sw7pqc"
      }
    },
    {
      "cell_type": "markdown",
      "source": [
        "This `ModelCard.from_template` is a really nice function. It lets you build a model card from a jinja template. By default, it uses the [default model card template](https://github.com/nateraw/modelcards/blob/main/modelcards/modelcard_template.md), but you could use your own template if you want, which we'll see later :)\n",
        "\n",
        "To use it, we first define some card metadata using the `modelcards.CardData` class. This is the info that gets stored in the YAML block at the top of the card.\n",
        "\n",
        "This metadata is leveraged by the Hugging Face Hub to:\n",
        "\n",
        "- enable discoverability of your model through filters\n",
        "- provide a standardized way to share your evaluation results (which are then automatically posted to Papers With Code)\n",
        "- enable the inference API if your model is compatible with one of the available Inference API pipelines.\n",
        "- And more!\n",
        "\n",
        "After that, we use the `ModelCard.from_template` fn, passing the `card_data` instance as well as any Jinja template kwargs that were included in our model card template. The default model card template has two Jinja kwargs: `model_id` and `model_description`. "
      ],
      "metadata": {
        "id": "Mhh5JG9sDnW7"
      }
    },
    {
      "cell_type": "code",
      "source": [
        "from huggingface_hub import create_repo\n",
        "from modelcards import CardData\n",
        "\n",
        "# ⚠️ Make sure to replace username with your own if you want to push this\n",
        "repo_id = \"nateraw/my-cool-model-with-card\"\n",
        "\n",
        "# Model card metadata leveraged by Hugging Face Hub\n",
        "card_data = CardData(\n",
        "    language='en',\n",
        "    license='mit',\n",
        "    library_name='timm',\n",
        "    tags=['image-classification', 'resnet'],\n",
        "    datasets='beans',\n",
        "    metrics=['acc', 'f1'],\n",
        ")\n",
        "\n",
        "# Instantiate a new card from the default template, supplying card_data and Jinja template kwargs\n",
        "card = ModelCard.from_template(\n",
        "    card_data,\n",
        "    model_id=repo_id.split('/')[-1],  # ⬅️ Jinja template kwargs ⤵️\n",
        "    model_description=\"This isn't really a model, it's just a test repo to see if the [modelcards](https://github.com/nateraw/modelcards) package works!\",\n",
        ")\n",
        "print(card)"
      ],
      "metadata": {
        "colab": {
          "base_uri": "https://localhost:8080/"
        },
        "id": "jCsJ1EzEDsnu",
        "outputId": "a7f4a7cf-0e07-430c-f2c1-d71052ac0d81"
      },
      "execution_count": 14,
      "outputs": [
        {
          "output_type": "stream",
          "name": "stdout",
          "text": [
            "---\n",
            "language: en\n",
            "license: mit\n",
            "library_name: timm\n",
            "tags:\n",
            "- image-classification\n",
            "- resnet\n",
            "datasets: beans\n",
            "metrics:\n",
            "- acc\n",
            "- f1\n",
            "---\n",
            "\n",
            "# my-cool-model-with-card\n",
            "\n",
            "## Model description\n",
            "\n",
            "This isn't really a model, it's just a test repo to see if the [modelcards](https://github.com/nateraw/modelcards) package works!\n",
            "\n",
            "## Intended uses & limitations\n",
            "\n",
            "#### How to use\n",
            "\n",
            "```python\n",
            "# You can include sample code which will be formatted\n",
            "```\n",
            "\n",
            "#### Limitations and bias\n",
            "\n",
            "Provide examples of latent issues and potential remediations.\n",
            "\n",
            "## Training data\n",
            "\n",
            "Describe the data you used to train the model.\n",
            "If you initialized it with pre-trained weights, add a link to the pre-trained model card or repository with description of the pre-training data.\n",
            "\n",
            "## Training procedure\n",
            "\n",
            "Preprocessing, hardware used, hyperparameters...\n",
            "\n",
            "## Eval results\n",
            "\n",
            "Provide some evaluation results.\n",
            "\n",
            "### BibTeX entry and citation info\n",
            "\n",
            "```bibtex\n",
            "@inproceedings{...,\n",
            "  year={2020}\n",
            "}\n",
            "```\n"
          ]
        }
      ]
    },
    {
      "cell_type": "markdown",
      "source": [
        "You can save your model card to a local file with `ModelCard.save`"
      ],
      "metadata": {
        "id": "ma8FpdeRmHEV"
      }
    },
    {
      "cell_type": "code",
      "source": [
        "card.save(\"my_cool_modelcard.md\")"
      ],
      "metadata": {
        "id": "LT5VoETJmLo_"
      },
      "execution_count": null,
      "outputs": []
    },
    {
      "cell_type": "markdown",
      "source": [
        "We can load it back in using `ModelCard.load`...`ModelCard.load` accepts both repo IDs and local filenames."
      ],
      "metadata": {
        "id": "qWANuH8umPAy"
      }
    },
    {
      "cell_type": "code",
      "source": [
        "card = ModelCard.load('my_cool_modelcard.md')"
      ],
      "metadata": {
        "id": "q7tCzNRcmZKy"
      },
      "execution_count": null,
      "outputs": []
    },
    {
      "cell_type": "code",
      "source": [
        "card.data"
      ],
      "metadata": {
        "id": "wQdYByjEmcQ0",
        "outputId": "05a87e02-8c07-4f79-d7f8-11eac96e95b3",
        "colab": {
          "base_uri": "https://localhost:8080/"
        }
      },
      "execution_count": null,
      "outputs": [
        {
          "output_type": "execute_result",
          "data": {
            "text/plain": [
              "language: en\n",
              "license: mit\n",
              "library_name: timm\n",
              "tags:\n",
              "- image-classification\n",
              "- resnet\n",
              "datasets: beans\n",
              "metrics:\n",
              "- acc\n",
              "- f1"
            ]
          },
          "metadata": {},
          "execution_count": 9
        }
      ]
    },
    {
      "cell_type": "markdown",
      "source": [
        "## Pushing Model Cards to the Hugging Face Hub\n",
        "\n",
        "As long as you're logged in, you can push model cards to the Hub really easily using the `ModelCard.push_to_hub` function."
      ],
      "metadata": {
        "id": "2dKxH710E2iw"
      }
    },
    {
      "cell_type": "code",
      "source": [
        "from huggingface_hub import notebook_login\n",
        "\n",
        "notebook_login()"
      ],
      "metadata": {
        "colab": {
          "base_uri": "https://localhost:8080/",
          "height": 331,
          "referenced_widgets": [
            "23e101d6de1440b8a29fdd1a3b96ec98",
            "889409417139410f99bae9994e296ea0",
            "c991b48567804acea4b2354499f19035",
            "f9b34b8acb3145b1ae05679805d110a9",
            "9c4781df10374c4ba4eeec60ec3c9bd3",
            "ee2fdc44e01543f6bbcdbcb143da87b3",
            "47bba9e5222e496d9756d0716d2af23d",
            "80c8f83594ad4496b375f8dad8840f5b",
            "f3b0ce3912d44f35b0ebc92272505b34",
            "2add93c86eb5429badc17bc7fc117c73",
            "044690367d6e4a30b633cb5350752254",
            "40a7745bc5d4407c83579551f158a4f5",
            "fb93beb5b95f4268889d87340b16c026",
            "b9732d2088d04dc492e4d817909af071",
            "989322ae18c84b1a92f98b721d03fda8",
            "104a3d2379e04222b1e2a08cd5f189c9",
            "f46e2a67d41b478a89c3b748657458e1"
          ]
        },
        "id": "RrJHJVA4EnJi",
        "outputId": "51e43ab8-0474-4ecf-f81a-def16d11f23d"
      },
      "execution_count": null,
      "outputs": [
        {
          "output_type": "stream",
          "name": "stdout",
          "text": [
            "Login successful\n",
            "Your token has been saved to /root/.huggingface/token\n"
          ]
        }
      ]
    },
    {
      "cell_type": "markdown",
      "source": [
        "...you can push it up like this"
      ],
      "metadata": {
        "id": "-vY0Y5V8E8JA"
      }
    },
    {
      "cell_type": "code",
      "source": [
        "# Create a repo if it doesn't already exist\n",
        "repo_url = create_repo(repo_id, exist_ok=True)\n",
        "\n",
        "# Push To Hub 🤗\n",
        "card.push_to_hub(repo_id)\n",
        "\n",
        "print(f\"You can find the repo at {repo_url}\")"
      ],
      "metadata": {
        "colab": {
          "base_uri": "https://localhost:8080/"
        },
        "id": "IZub-m6nEls4",
        "outputId": "d93c28fd-baac-4cbd-f5fc-89c9df344657"
      },
      "execution_count": null,
      "outputs": [
        {
          "output_type": "stream",
          "name": "stdout",
          "text": [
            "You can find the repo at https://huggingface.co/nateraw/my-cool-model-with-card\n"
          ]
        }
      ]
    },
    {
      "cell_type": "markdown",
      "source": [
        "## Creating Model Cards From Your Own Templates\n",
        "\n",
        "As mentioned earlier, the `ModelCard.from_template` fn also allows you to create new cards from a Jinja template that you've defined yourself!\n",
        "\n",
        "You might find this helpful if you are sharing a ton of models that are quite similar, or if you want to create a template card for a certain task/library/etc.\n",
        "\n",
        "### Defining our custom template\n",
        "\n",
        "First, we'll need to define our template. Here, we make a really simple one for example purposes and write it to a file called `my_template.md`.\n",
        "\n",
        "> ⚠️ **Note** - It's important that you include the `card_data` Jinja template variable within the `---` block at the top, as that's how the `card_data` you define gets included in the README.\n",
        "\n"
      ],
      "metadata": {
        "id": "LBsl7Kqw9IpL"
      }
    },
    {
      "cell_type": "code",
      "source": [
        "from pathlib import Path\n",
        "\n",
        "template_text = \"\"\"\n",
        "---\n",
        "{{ card_data }}\n",
        "---\n",
        "\n",
        "# {{ model_id | default(\"CoolModel\") }}\n",
        "\n",
        "This model is part of `super_cool_models` package (which doesn't exist)! It is a fine tuned `cool-model` on the `{{ dataset_name }}`.\n",
        "\n",
        "## Intended uses & limitations\n",
        "\n",
        "This model doesn't exist, so you probably don't want to use it! This is just an example template. Please write a very thoughtful model card ❤️\n",
        "\"\"\"\n",
        "\n",
        "Path('my_template.md').write_text(template_text)"
      ],
      "metadata": {
        "id": "MNKWcwb89cpq",
        "outputId": "8ccedf3a-a332-40fb-dbc9-0d30968c097a",
        "colab": {
          "base_uri": "https://localhost:8080/"
        }
      },
      "execution_count": null,
      "outputs": [
        {
          "output_type": "execute_result",
          "data": {
            "text/plain": [
              "377"
            ]
          },
          "metadata": {},
          "execution_count": 12
        }
      ]
    },
    {
      "cell_type": "markdown",
      "source": [
        "### Filling in our custom template\n",
        "\n",
        "Now we can fill in the template by supplying `template_path='my_template.md'` to `ModelCard.from_template`. Notice how we can provide whatever Jinja template variables we want here...in this case, we'll include `model_id` and `dataset_name`, as we included them in our template."
      ],
      "metadata": {
        "id": "XnoT4E0O-rO5"
      }
    },
    {
      "cell_type": "code",
      "source": [
        "card = ModelCard.from_template(\n",
        "    card_data=CardData(  # Card metadata object that will be converted to YAML block\n",
        "        language='en',\n",
        "        license='mit',\n",
        "        library_name='super_cool_models',\n",
        "        tags=['image-classification', 'cool-model'],\n",
        "        datasets='awesome-dataset',\n",
        "        metrics=['accuracy', 'f1'],\n",
        "    ),\n",
        "    template_path='my_template.md', # The template we just wrote!\n",
        "    model_id='cool-model',  # Jinja template kwarg\n",
        "    dataset_name='awesome-dataset', # Jinja template kwarg\n",
        ")\n",
        "print(card)"
      ],
      "metadata": {
        "id": "VQQyaSwW_Al8",
        "outputId": "a484663f-6d7d-4dcc-bb7d-fbf96c528f71",
        "colab": {
          "base_uri": "https://localhost:8080/"
        }
      },
      "execution_count": null,
      "outputs": [
        {
          "output_type": "stream",
          "name": "stdout",
          "text": [
            "---\n",
            "language: en\n",
            "license: mit\n",
            "library_name: super_cool_models\n",
            "tags:\n",
            "- image-classification\n",
            "- cool-model\n",
            "datasets: awesome-dataset\n",
            "metrics:\n",
            "- accuracy\n",
            "- f1\n",
            "---\n",
            "\n",
            "# cool-model\n",
            "\n",
            "This model is part of `super_cool_models` package (which doesn't exist)! It is a fine tuned `cool-model` on the `awesome-dataset`.\n",
            "\n",
            "## Intended uses & limitations\n",
            "\n",
            "This model doesn't exist, so you probably don't want to use it! This is just an example template. Please write a very thoughtful model card ❤️\n"
          ]
        }
      ]
    },
    {
      "cell_type": "markdown",
      "source": [
        "## Including Evaluation Results in Your Model Card\n",
        "\n",
        "One of the things the Model Card metadata is used for is to share evaluation results of your model. This is really nice because once you share your results, your model will automatically be shared on the relevant [Papers With Code](https://paperswithcode.com) Leaderboard.\n",
        "\n",
        "To share evaluation results, you can use the `modelcards.EvalResult` object to define a single evaluation metric for a single dataset. To share multiple metrics (or to share the same metric across multiple datasets), you just create a list of these. These evaluation results are then provided to the `CardData` object upon instantiation.\n",
        "\n",
        "> ⚠️ **Note** - When providing EvalResults, you must also provide a `model_name` to `CardData`, as it is the name that will be used on PapersWithCode's leaderboard.\n",
        "\n",
        "\n",
        "Here's what it looks like:"
      ],
      "metadata": {
        "id": "ODTQJkT9_WQc"
      }
    },
    {
      "cell_type": "code",
      "source": [
        "from modelcards import CardData, EvalResult, ModelCard\n",
        "\n",
        "model_name = 'my-cool-model-with-eval-results'\n",
        "card_data=CardData(\n",
        "    language='en',\n",
        "    license='mit',\n",
        "    library_name='timm',\n",
        "    tags=['image-classification', 'resnet'],\n",
        "    datasets='beans',\n",
        "    metrics=['accuracy', 'f1'],\n",
        "    eval_results=[\n",
        "        EvalResult(\n",
        "            task_type='image-classification',\n",
        "            dataset_type='beans',\n",
        "            dataset_name='Beans',\n",
        "            metric_type='accuracy',\n",
        "            metric_value=0.85,\n",
        "        ),\n",
        "        EvalResult(\n",
        "            task_type='image-classification',\n",
        "            dataset_type='beans',\n",
        "            dataset_name='Beans',\n",
        "            metric_type='f1',\n",
        "            metric_value=0.75, \n",
        "        )\n",
        "    ],\n",
        "    model_name=model_name\n",
        ")\n",
        "\n",
        "card = ModelCard.from_template(\n",
        "    card_data,\n",
        "    model_id=model_name,  # Jinja template kwarg\n",
        "    model_description=\"This isn't really a model, it's just a test repo to see if the [modelcards](https://github.com/nateraw/modelcards) package works!\"\n",
        ")"
      ],
      "metadata": {
        "id": "C7Aaa7RqAFY6"
      },
      "execution_count": null,
      "outputs": []
    },
    {
      "cell_type": "markdown",
      "source": [
        "Now lets push that up to the hub to see if it worked!"
      ],
      "metadata": {
        "id": "xaC47D2kAJAh"
      }
    },
    {
      "cell_type": "code",
      "source": [
        "# ⚠️ Make sure to replace username below with your own if you're pushing it\n",
        "repo_id = f\"nateraw/{model_name}\"\n",
        "\n",
        "# Create a repo if it doesn't already exist\n",
        "repo_url = create_repo(repo_id, exist_ok=True)\n",
        "\n",
        "# Push To Hub 🤗\n",
        "card.push_to_hub(repo_id)\n",
        "\n",
        "print(f\"You can find the repo at {repo_url}\")"
      ],
      "metadata": {
        "id": "kw_EcuKpBl-Y",
        "outputId": "818db6ac-a6cc-47f0-e02c-4669ed49983a",
        "colab": {
          "base_uri": "https://localhost:8080/"
        }
      },
      "execution_count": null,
      "outputs": [
        {
          "output_type": "stream",
          "name": "stdout",
          "text": [
            "You can find the repo at https://huggingface.co/nateraw/my-cool-model-with-eval-results\n"
          ]
        }
      ]
    }
  ]
}